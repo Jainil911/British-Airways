{
 "cells": [
  {
   "cell_type": "code",
   "execution_count": 1,
   "id": "4e180a91-e6ef-42cd-853d-3f9adc0df8c6",
   "metadata": {},
   "outputs": [],
   "source": [
    "import pandas as pd\n",
    "import matplotlib.pyplot as plt\n",
    "import seaborn as sns\n",
    "import os\n",
    "import re"
   ]
  },
  {
   "cell_type": "code",
   "execution_count": 2,
   "id": "7030b9a1-60d9-45b7-9dfc-3f0839d8fe50",
   "metadata": {},
   "outputs": [],
   "source": [
    "cwd = os.getcwd()\n",
    "\n",
    "df = pd.read_csv(cwd+\"/BA_reviews.csv\", index_col=0)"
   ]
  },
  {
   "cell_type": "code",
   "execution_count": 3,
   "id": "979d2b71-421f-408f-b311-9fcc593164a2",
   "metadata": {},
   "outputs": [
    {
     "data": {
      "text/html": [
       "<div>\n",
       "<style scoped>\n",
       "    .dataframe tbody tr th:only-of-type {\n",
       "        vertical-align: middle;\n",
       "    }\n",
       "\n",
       "    .dataframe tbody tr th {\n",
       "        vertical-align: top;\n",
       "    }\n",
       "\n",
       "    .dataframe thead th {\n",
       "        text-align: right;\n",
       "    }\n",
       "</style>\n",
       "<table border=\"1\" class=\"dataframe\">\n",
       "  <thead>\n",
       "    <tr style=\"text-align: right;\">\n",
       "      <th></th>\n",
       "      <th>reviews</th>\n",
       "      <th>stars</th>\n",
       "      <th>date</th>\n",
       "      <th>country</th>\n",
       "    </tr>\n",
       "  </thead>\n",
       "  <tbody>\n",
       "    <tr>\n",
       "      <th>0</th>\n",
       "      <td>Not Verified | I booked two business class sea...</td>\n",
       "      <td>5.0</td>\n",
       "      <td>27th August 2024</td>\n",
       "      <td>United States</td>\n",
       "    </tr>\n",
       "    <tr>\n",
       "      <th>1</th>\n",
       "      <td>Not Verified | Although all four flights were ...</td>\n",
       "      <td>1.0</td>\n",
       "      <td>26th August 2024</td>\n",
       "      <td>United Kingdom</td>\n",
       "    </tr>\n",
       "    <tr>\n",
       "      <th>2</th>\n",
       "      <td>✅ Trip Verified |   Flight changed just one da...</td>\n",
       "      <td>9.0</td>\n",
       "      <td>26th August 2024</td>\n",
       "      <td>United Kingdom</td>\n",
       "    </tr>\n",
       "    <tr>\n",
       "      <th>3</th>\n",
       "      <td>Not Verified | Delayed flight 1 hour. Arbitrar...</td>\n",
       "      <td>1.0</td>\n",
       "      <td>25th August 2024</td>\n",
       "      <td>United Kingdom</td>\n",
       "    </tr>\n",
       "    <tr>\n",
       "      <th>4</th>\n",
       "      <td>Not Verified | Flown with BA four times. As an...</td>\n",
       "      <td>2.0</td>\n",
       "      <td>25th August 2024</td>\n",
       "      <td>United Kingdom</td>\n",
       "    </tr>\n",
       "  </tbody>\n",
       "</table>\n",
       "</div>"
      ],
      "text/plain": [
       "                                             reviews  stars              date  \\\n",
       "0  Not Verified | I booked two business class sea...    5.0  27th August 2024   \n",
       "1  Not Verified | Although all four flights were ...    1.0  26th August 2024   \n",
       "2  ✅ Trip Verified |   Flight changed just one da...    9.0  26th August 2024   \n",
       "3  Not Verified | Delayed flight 1 hour. Arbitrar...    1.0  25th August 2024   \n",
       "4  Not Verified | Flown with BA four times. As an...    2.0  25th August 2024   \n",
       "\n",
       "          country  \n",
       "0   United States  \n",
       "1  United Kingdom  \n",
       "2  United Kingdom  \n",
       "3  United Kingdom  \n",
       "4  United Kingdom  "
      ]
     },
     "execution_count": 3,
     "metadata": {},
     "output_type": "execute_result"
    }
   ],
   "source": [
    "df.head()"
   ]
  },
  {
   "cell_type": "code",
   "execution_count": 4,
   "id": "957ac6b0-9343-4872-acc5-8d51bcf20b09",
   "metadata": {},
   "outputs": [],
   "source": [
    "df['verified'] = df.reviews.str.contains(\"Trip Verified\")"
   ]
  },
  {
   "cell_type": "code",
   "execution_count": 5,
   "id": "c0116310-be6c-4b59-b37a-5fa5d2ae0bed",
   "metadata": {},
   "outputs": [
    {
     "data": {
      "text/plain": [
       "0        False\n",
       "1        False\n",
       "2         True\n",
       "3        False\n",
       "4        False\n",
       "         ...  \n",
       "14246    False\n",
       "14247    False\n",
       "14248    False\n",
       "14249    False\n",
       "14250    False\n",
       "Name: verified, Length: 14251, dtype: bool"
      ]
     },
     "execution_count": 5,
     "metadata": {},
     "output_type": "execute_result"
    }
   ],
   "source": [
    "df['verified']"
   ]
  },
  {
   "cell_type": "code",
   "execution_count": 6,
   "id": "89c09f0b-2910-4de9-baf6-7b890910192c",
   "metadata": {},
   "outputs": [],
   "source": [
    "from nltk.stem import WordNetLemmatizer\n",
    "from nltk.corpus import stopwords\n"
   ]
  },
  {
   "cell_type": "code",
   "execution_count": 7,
   "id": "9f651342-2429-4deb-b5c0-bbf6c0f1f71f",
   "metadata": {},
   "outputs": [
    {
     "name": "stderr",
     "output_type": "stream",
     "text": [
      "[nltk_data] Downloading package wordnet to\n",
      "[nltk_data]     C:\\Users\\jaini\\AppData\\Roaming\\nltk_data...\n",
      "[nltk_data]   Package wordnet is already up-to-date!\n",
      "[nltk_data] Downloading package stopwords to\n",
      "[nltk_data]     C:\\Users\\jaini\\AppData\\Roaming\\nltk_data...\n",
      "[nltk_data]   Package stopwords is already up-to-date!\n",
      "[nltk_data] Downloading package omw-1.4 to\n",
      "[nltk_data]     C:\\Users\\jaini\\AppData\\Roaming\\nltk_data...\n",
      "[nltk_data]   Package omw-1.4 is already up-to-date!\n"
     ]
    },
    {
     "data": {
      "text/plain": [
       "True"
      ]
     },
     "execution_count": 7,
     "metadata": {},
     "output_type": "execute_result"
    }
   ],
   "source": [
    "import nltk\n",
    "nltk.download('wordnet')\n",
    "nltk.download('stopwords')\n",
    "nltk.download('omw-1.4')"
   ]
  },
  {
   "cell_type": "code",
   "execution_count": 8,
   "id": "965bb200-f51d-4240-be3b-3f84b66ac427",
   "metadata": {},
   "outputs": [],
   "source": [
    "#for lemmatization of words we will use nltk library\n",
    "from nltk.stem import WordNetLemmatizer\n",
    "from nltk.corpus import stopwords\n",
    "lemma = WordNetLemmatizer()\n",
    "\n",
    "\n",
    "reviews_data = df.reviews.str.strip(\"✅ Trip Verified |\")\n",
    "\n",
    "#create an empty list to collect cleaned data corpus\n",
    "corpus =[]\n",
    "\n",
    "#loop through each review, remove punctuations, small case it, join it and add it to corpus\n",
    "for rev in reviews_data:\n",
    "    rev = re.sub('[^a-zA-Z]',' ', rev)\n",
    "    rev = rev.lower()\n",
    "    rev = rev.split()\n",
    "    rev = [lemma.lemmatize(word) for word in rev if word not in set(stopwords.words(\"english\"))]\n",
    "    rev = \" \".join(rev)\n",
    "    corpus.append(rev)"
   ]
  },
  {
   "cell_type": "code",
   "execution_count": 9,
   "id": "474ccfc8-320f-428c-92bd-69e0d5f983d0",
   "metadata": {},
   "outputs": [],
   "source": [
    "df['corpus'] = corpus"
   ]
  },
  {
   "cell_type": "code",
   "execution_count": 10,
   "id": "bb058654-2889-4944-ae07-f137c5e92c88",
   "metadata": {},
   "outputs": [
    {
     "data": {
      "text/html": [
       "<div>\n",
       "<style scoped>\n",
       "    .dataframe tbody tr th:only-of-type {\n",
       "        vertical-align: middle;\n",
       "    }\n",
       "\n",
       "    .dataframe tbody tr th {\n",
       "        vertical-align: top;\n",
       "    }\n",
       "\n",
       "    .dataframe thead th {\n",
       "        text-align: right;\n",
       "    }\n",
       "</style>\n",
       "<table border=\"1\" class=\"dataframe\">\n",
       "  <thead>\n",
       "    <tr style=\"text-align: right;\">\n",
       "      <th></th>\n",
       "      <th>reviews</th>\n",
       "      <th>stars</th>\n",
       "      <th>date</th>\n",
       "      <th>country</th>\n",
       "      <th>verified</th>\n",
       "      <th>corpus</th>\n",
       "    </tr>\n",
       "  </thead>\n",
       "  <tbody>\n",
       "    <tr>\n",
       "      <th>0</th>\n",
       "      <td>Not Verified | I booked two business class sea...</td>\n",
       "      <td>5.0</td>\n",
       "      <td>27th August 2024</td>\n",
       "      <td>United States</td>\n",
       "      <td>False</td>\n",
       "      <td>verified booked two business class seat medica...</td>\n",
       "    </tr>\n",
       "    <tr>\n",
       "      <th>1</th>\n",
       "      <td>Not Verified | Although all four flights were ...</td>\n",
       "      <td>1.0</td>\n",
       "      <td>26th August 2024</td>\n",
       "      <td>United Kingdom</td>\n",
       "      <td>False</td>\n",
       "      <td>verified although four flight delayed service ...</td>\n",
       "    </tr>\n",
       "    <tr>\n",
       "      <th>2</th>\n",
       "      <td>✅ Trip Verified |   Flight changed just one da...</td>\n",
       "      <td>9.0</td>\n",
       "      <td>26th August 2024</td>\n",
       "      <td>United Kingdom</td>\n",
       "      <td>True</td>\n",
       "      <td>flight changed one day british airway titan fl...</td>\n",
       "    </tr>\n",
       "    <tr>\n",
       "      <th>3</th>\n",
       "      <td>Not Verified | Delayed flight 1 hour. Arbitrar...</td>\n",
       "      <td>1.0</td>\n",
       "      <td>25th August 2024</td>\n",
       "      <td>United Kingdom</td>\n",
       "      <td>False</td>\n",
       "      <td>verified delayed flight hour arbitrary cancell...</td>\n",
       "    </tr>\n",
       "    <tr>\n",
       "      <th>4</th>\n",
       "      <td>Not Verified | Flown with BA four times. As an...</td>\n",
       "      <td>2.0</td>\n",
       "      <td>25th August 2024</td>\n",
       "      <td>United Kingdom</td>\n",
       "      <td>False</td>\n",
       "      <td>verified flown ba four time anxious traveller ...</td>\n",
       "    </tr>\n",
       "  </tbody>\n",
       "</table>\n",
       "</div>"
      ],
      "text/plain": [
       "                                             reviews  stars              date  \\\n",
       "0  Not Verified | I booked two business class sea...    5.0  27th August 2024   \n",
       "1  Not Verified | Although all four flights were ...    1.0  26th August 2024   \n",
       "2  ✅ Trip Verified |   Flight changed just one da...    9.0  26th August 2024   \n",
       "3  Not Verified | Delayed flight 1 hour. Arbitrar...    1.0  25th August 2024   \n",
       "4  Not Verified | Flown with BA four times. As an...    2.0  25th August 2024   \n",
       "\n",
       "          country  verified                                             corpus  \n",
       "0   United States     False  verified booked two business class seat medica...  \n",
       "1  United Kingdom     False  verified although four flight delayed service ...  \n",
       "2  United Kingdom      True  flight changed one day british airway titan fl...  \n",
       "3  United Kingdom     False  verified delayed flight hour arbitrary cancell...  \n",
       "4  United Kingdom     False  verified flown ba four time anxious traveller ...  "
      ]
     },
     "execution_count": 10,
     "metadata": {},
     "output_type": "execute_result"
    }
   ],
   "source": [
    "df.head()"
   ]
  },
  {
   "cell_type": "code",
   "execution_count": 11,
   "id": "174a8ac1-9ffd-4240-8315-026570daed90",
   "metadata": {},
   "outputs": [
    {
     "data": {
      "text/plain": [
       "reviews      object\n",
       "stars       float64\n",
       "date         object\n",
       "country      object\n",
       "verified       bool\n",
       "corpus       object\n",
       "dtype: object"
      ]
     },
     "execution_count": 11,
     "metadata": {},
     "output_type": "execute_result"
    }
   ],
   "source": [
    "df.dtypes"
   ]
  },
  {
   "cell_type": "code",
   "execution_count": 14,
   "id": "08924e65-582d-4ab0-b1b3-5089f43e9867",
   "metadata": {},
   "outputs": [
    {
     "name": "stdout",
     "output_type": "stream",
     "text": [
      "                                                 reviews  stars  \\\n",
      "5      ✅ Trip Verified |   You may never see your ref...   10.0   \n",
      "6      Not Verified | Cargo service: that's how I fel...    1.0   \n",
      "7      ✅ Trip Verified | Inefficient and slow airport...    5.0   \n",
      "19     ✅ Trip Verified | BA, after subsequent delays ...    1.0   \n",
      "20     Not Verified |   It is embarrassing to have th...    1.0   \n",
      "...                                                  ...    ...   \n",
      "14246  I recently flew on British Airways long haul o...    4.0   \n",
      "14247  We have just flown economy class London to Los...    3.0   \n",
      "14248  October 16th Ibiza to London Heathrow. Well a ...    8.0   \n",
      "14249  LHR-IAD-LHR 29/9 and return 13/10. We booked o...    3.0   \n",
      "14250  OSL-LHR in Business. BA has over the last few ...    6.0   \n",
      "\n",
      "                    date         country  verified  \\\n",
      "5       22nd August 2024   United States      True   \n",
      "6       21st August 2024   United States     False   \n",
      "7       21st August 2024  United Kingdom      True   \n",
      "19       3rd August 2024           Italy      True   \n",
      "20       2nd August 2024       Australia     False   \n",
      "...                  ...             ...       ...   \n",
      "14246  22nd October 2014   United States     False   \n",
      "14247  22nd October 2014  United Kingdom     False   \n",
      "14248  22nd October 2014  United Kingdom     False   \n",
      "14249  22nd October 2014  United Kingdom     False   \n",
      "14250  22nd October 2014          Norway     False   \n",
      "\n",
      "                                                  corpus  \n",
      "5      may never see refund cancelled return flight s...  \n",
      "6      verified cargo service felt upper deck suppose...  \n",
      "7      inefficient slow airport operation resting lau...  \n",
      "19     ba subsequent delay postponed departure time i...  \n",
      "20     verified embarrassing word british attached ai...  \n",
      "...                                                  ...  \n",
      "14246  recently flew british airway long haul flight ...  \n",
      "14247  flown economy class london los angeles outboun...  \n",
      "14248  october th ibiza london heathrow well great se...  \n",
      "14249  lhr iad lhr return booked original flight wtp ...  \n",
      "14250  osl lhr business ba last year put less priorit...  \n",
      "\n",
      "[2962 rows x 6 columns]\n"
     ]
    }
   ],
   "source": [
    "invalid_dates = df[~pd.to_datetime(df['date'], errors='coerce').notna()]\n",
    "print(invalid_dates)\n"
   ]
  },
  {
   "cell_type": "code",
   "execution_count": 15,
   "id": "3f5a72c8-f921-43fe-98e8-9402c493813a",
   "metadata": {},
   "outputs": [],
   "source": [
    "df['date'] = pd.to_datetime(df['date'], errors='coerce')\n",
    "df = df.dropna(subset=['date'])\n"
   ]
  },
  {
   "cell_type": "code",
   "execution_count": 16,
   "id": "855ab6cd-8250-4210-9a1c-fb1142395149",
   "metadata": {},
   "outputs": [],
   "source": [
    "df['date'] = pd.to_datetime(df['date'], errors='coerce').fillna(pd.Timestamp('1900-01-01'))\n"
   ]
  },
  {
   "cell_type": "code",
   "execution_count": 17,
   "id": "8b882f59-a5ee-403d-9d7f-b0306bce7e6e",
   "metadata": {},
   "outputs": [],
   "source": [
    "df['date'] = pd.to_datetime(df['date'], format='%Y-%m-%d')  # Adjust the format as necessary\n"
   ]
  },
  {
   "cell_type": "code",
   "execution_count": 18,
   "id": "ecb21614-2cf7-4b34-8654-c3c290fe5987",
   "metadata": {},
   "outputs": [],
   "source": [
    "df.date = pd.to_datetime(df.date)"
   ]
  },
  {
   "cell_type": "code",
   "execution_count": 19,
   "id": "500e2d90-4e19-433c-8c19-ef2c0fa2c2e5",
   "metadata": {},
   "outputs": [
    {
     "data": {
      "text/plain": [
       "0   2024-08-27\n",
       "1   2024-08-26\n",
       "2   2024-08-26\n",
       "3   2024-08-25\n",
       "4   2024-08-25\n",
       "Name: date, dtype: datetime64[ns]"
      ]
     },
     "execution_count": 19,
     "metadata": {},
     "output_type": "execute_result"
    }
   ],
   "source": [
    "df.date.head()"
   ]
  },
  {
   "cell_type": "code",
   "execution_count": 20,
   "id": "11b188e2-6b88-492f-abf5-a5b2661502ee",
   "metadata": {},
   "outputs": [
    {
     "data": {
      "text/plain": [
       "array([ 5.,  1.,  9.,  2.,  4.,  8.,  3., 10.,  7.,  6., nan])"
      ]
     },
     "execution_count": 20,
     "metadata": {},
     "output_type": "execute_result"
    }
   ],
   "source": [
    "df.stars.unique()"
   ]
  },
  {
   "cell_type": "code",
   "execution_count": 21,
   "id": "dd05a21e-999e-4297-bc11-671f1b4bbaa0",
   "metadata": {},
   "outputs": [
    {
     "data": {
      "text/plain": [
       "stars\n",
       "1.0     2775\n",
       "2.0     1301\n",
       "3.0     1287\n",
       "8.0     1112\n",
       "10.0     940\n",
       "7.0      903\n",
       "9.0      856\n",
       "5.0      789\n",
       "4.0      738\n",
       "6.0      580\n",
       "Name: count, dtype: int64"
      ]
     },
     "execution_count": 21,
     "metadata": {},
     "output_type": "execute_result"
    }
   ],
   "source": [
    "df.stars.value_counts()"
   ]
  },
  {
   "cell_type": "code",
   "execution_count": 23,
   "id": "e7a7ddd1-6841-489c-920a-0c81457c7f2d",
   "metadata": {},
   "outputs": [
    {
     "data": {
      "text/plain": [
       "array([ 5.,  1.,  9.,  2.,  4.,  8.,  3., 10.,  7.,  6., nan])"
      ]
     },
     "execution_count": 23,
     "metadata": {},
     "output_type": "execute_result"
    }
   ],
   "source": [
    "df.stars.unique()"
   ]
  },
  {
   "cell_type": "code",
   "execution_count": 24,
   "id": "fda66923-ccc4-4798-8055-a9d304561e4b",
   "metadata": {},
   "outputs": [
    {
     "data": {
      "text/plain": [
       "reviews  stars  date   country  verified  corpus\n",
       "False    False  False  False    False     False     11276\n",
       "         True   False  False    False     False         8\n",
       "         False  False  True     False     False         5\n",
       "Name: count, dtype: int64"
      ]
     },
     "execution_count": 24,
     "metadata": {},
     "output_type": "execute_result"
    }
   ],
   "source": [
    "df.isnull().value_counts()"
   ]
  },
  {
   "cell_type": "code",
   "execution_count": 25,
   "id": "d0161f3b-e2cb-4f90-aa19-f9bcd324c0cf",
   "metadata": {},
   "outputs": [
    {
     "data": {
      "text/plain": [
       "country\n",
       "False    11284\n",
       "True         5\n",
       "Name: count, dtype: int64"
      ]
     },
     "execution_count": 25,
     "metadata": {},
     "output_type": "execute_result"
    }
   ],
   "source": [
    "df.country.isnull().value_counts()"
   ]
  },
  {
   "cell_type": "code",
   "execution_count": 26,
   "id": "11f02e4d-5bd6-4429-859d-b8f74dfdb533",
   "metadata": {},
   "outputs": [],
   "source": [
    "df.drop(df[df.country.isnull() == True].index, axis=0, inplace=True)"
   ]
  },
  {
   "cell_type": "code",
   "execution_count": 27,
   "id": "35764638-ef6b-4ab4-8ae1-a0ed53899f4a",
   "metadata": {},
   "outputs": [
    {
     "data": {
      "text/plain": [
       "(11284, 6)"
      ]
     },
     "execution_count": 27,
     "metadata": {},
     "output_type": "execute_result"
    }
   ],
   "source": [
    "df.shape"
   ]
  },
  {
   "cell_type": "code",
   "execution_count": 28,
   "id": "cf90e2ce-15dc-4f82-8679-e8e7f4247d37",
   "metadata": {},
   "outputs": [
    {
     "data": {
      "text/html": [
       "<div>\n",
       "<style scoped>\n",
       "    .dataframe tbody tr th:only-of-type {\n",
       "        vertical-align: middle;\n",
       "    }\n",
       "\n",
       "    .dataframe tbody tr th {\n",
       "        vertical-align: top;\n",
       "    }\n",
       "\n",
       "    .dataframe thead th {\n",
       "        text-align: right;\n",
       "    }\n",
       "</style>\n",
       "<table border=\"1\" class=\"dataframe\">\n",
       "  <thead>\n",
       "    <tr style=\"text-align: right;\">\n",
       "      <th></th>\n",
       "      <th>reviews</th>\n",
       "      <th>stars</th>\n",
       "      <th>date</th>\n",
       "      <th>country</th>\n",
       "      <th>verified</th>\n",
       "      <th>corpus</th>\n",
       "    </tr>\n",
       "  </thead>\n",
       "  <tbody>\n",
       "    <tr>\n",
       "      <th>0</th>\n",
       "      <td>Not Verified | I booked two business class sea...</td>\n",
       "      <td>5.0</td>\n",
       "      <td>2024-08-27</td>\n",
       "      <td>United States</td>\n",
       "      <td>False</td>\n",
       "      <td>verified booked two business class seat medica...</td>\n",
       "    </tr>\n",
       "    <tr>\n",
       "      <th>1</th>\n",
       "      <td>Not Verified | Although all four flights were ...</td>\n",
       "      <td>1.0</td>\n",
       "      <td>2024-08-26</td>\n",
       "      <td>United Kingdom</td>\n",
       "      <td>False</td>\n",
       "      <td>verified although four flight delayed service ...</td>\n",
       "    </tr>\n",
       "    <tr>\n",
       "      <th>2</th>\n",
       "      <td>✅ Trip Verified |   Flight changed just one da...</td>\n",
       "      <td>9.0</td>\n",
       "      <td>2024-08-26</td>\n",
       "      <td>United Kingdom</td>\n",
       "      <td>True</td>\n",
       "      <td>flight changed one day british airway titan fl...</td>\n",
       "    </tr>\n",
       "    <tr>\n",
       "      <th>3</th>\n",
       "      <td>Not Verified | Delayed flight 1 hour. Arbitrar...</td>\n",
       "      <td>1.0</td>\n",
       "      <td>2024-08-25</td>\n",
       "      <td>United Kingdom</td>\n",
       "      <td>False</td>\n",
       "      <td>verified delayed flight hour arbitrary cancell...</td>\n",
       "    </tr>\n",
       "    <tr>\n",
       "      <th>4</th>\n",
       "      <td>Not Verified | Flown with BA four times. As an...</td>\n",
       "      <td>2.0</td>\n",
       "      <td>2024-08-25</td>\n",
       "      <td>United Kingdom</td>\n",
       "      <td>False</td>\n",
       "      <td>verified flown ba four time anxious traveller ...</td>\n",
       "    </tr>\n",
       "    <tr>\n",
       "      <th>...</th>\n",
       "      <td>...</td>\n",
       "      <td>...</td>\n",
       "      <td>...</td>\n",
       "      <td>...</td>\n",
       "      <td>...</td>\n",
       "      <td>...</td>\n",
       "    </tr>\n",
       "    <tr>\n",
       "      <th>11279</th>\n",
       "      <td>Flew from London to Calgary. The seats in the ...</td>\n",
       "      <td>5.0</td>\n",
       "      <td>2014-10-28</td>\n",
       "      <td>Canada</td>\n",
       "      <td>False</td>\n",
       "      <td>flew london calgary seat new dreamliner awful ...</td>\n",
       "    </tr>\n",
       "    <tr>\n",
       "      <th>11280</th>\n",
       "      <td>BA285 LHR-SFO seat 13a in WT+ on a pretty old ...</td>\n",
       "      <td>3.0</td>\n",
       "      <td>2014-10-28</td>\n",
       "      <td>United Kingdom</td>\n",
       "      <td>False</td>\n",
       "      <td>ba lhr sfo seat wt pretty old check security q...</td>\n",
       "    </tr>\n",
       "    <tr>\n",
       "      <th>11281</th>\n",
       "      <td>Flight 103 on October 14. We flew from London ...</td>\n",
       "      <td>4.0</td>\n",
       "      <td>2014-10-28</td>\n",
       "      <td>Canada</td>\n",
       "      <td>False</td>\n",
       "      <td>flight october flew london calgary alberta lon...</td>\n",
       "    </tr>\n",
       "    <tr>\n",
       "      <th>11282</th>\n",
       "      <td>Traveled with British Airways ORD-LHR last mon...</td>\n",
       "      <td>3.0</td>\n",
       "      <td>2014-10-28</td>\n",
       "      <td>United States</td>\n",
       "      <td>False</td>\n",
       "      <td>aveled british airway ord lhr last month world...</td>\n",
       "    </tr>\n",
       "    <tr>\n",
       "      <th>11283</th>\n",
       "      <td>Gatwick to Marrakech and back. Bag drop was fa...</td>\n",
       "      <td>1.0</td>\n",
       "      <td>2014-10-28</td>\n",
       "      <td>United Kingdom</td>\n",
       "      <td>False</td>\n",
       "      <td>gatwick marrakech back bag drop fast premium s...</td>\n",
       "    </tr>\n",
       "  </tbody>\n",
       "</table>\n",
       "<p>11284 rows × 6 columns</p>\n",
       "</div>"
      ],
      "text/plain": [
       "                                                 reviews  stars       date  \\\n",
       "0      Not Verified | I booked two business class sea...    5.0 2024-08-27   \n",
       "1      Not Verified | Although all four flights were ...    1.0 2024-08-26   \n",
       "2      ✅ Trip Verified |   Flight changed just one da...    9.0 2024-08-26   \n",
       "3      Not Verified | Delayed flight 1 hour. Arbitrar...    1.0 2024-08-25   \n",
       "4      Not Verified | Flown with BA four times. As an...    2.0 2024-08-25   \n",
       "...                                                  ...    ...        ...   \n",
       "11279  Flew from London to Calgary. The seats in the ...    5.0 2014-10-28   \n",
       "11280  BA285 LHR-SFO seat 13a in WT+ on a pretty old ...    3.0 2014-10-28   \n",
       "11281  Flight 103 on October 14. We flew from London ...    4.0 2014-10-28   \n",
       "11282  Traveled with British Airways ORD-LHR last mon...    3.0 2014-10-28   \n",
       "11283  Gatwick to Marrakech and back. Bag drop was fa...    1.0 2014-10-28   \n",
       "\n",
       "              country  verified  \\\n",
       "0       United States     False   \n",
       "1      United Kingdom     False   \n",
       "2      United Kingdom      True   \n",
       "3      United Kingdom     False   \n",
       "4      United Kingdom     False   \n",
       "...               ...       ...   \n",
       "11279          Canada     False   \n",
       "11280  United Kingdom     False   \n",
       "11281          Canada     False   \n",
       "11282   United States     False   \n",
       "11283  United Kingdom     False   \n",
       "\n",
       "                                                  corpus  \n",
       "0      verified booked two business class seat medica...  \n",
       "1      verified although four flight delayed service ...  \n",
       "2      flight changed one day british airway titan fl...  \n",
       "3      verified delayed flight hour arbitrary cancell...  \n",
       "4      verified flown ba four time anxious traveller ...  \n",
       "...                                                  ...  \n",
       "11279  flew london calgary seat new dreamliner awful ...  \n",
       "11280  ba lhr sfo seat wt pretty old check security q...  \n",
       "11281  flight october flew london calgary alberta lon...  \n",
       "11282  aveled british airway ord lhr last month world...  \n",
       "11283  gatwick marrakech back bag drop fast premium s...  \n",
       "\n",
       "[11284 rows x 6 columns]"
      ]
     },
     "execution_count": 28,
     "metadata": {},
     "output_type": "execute_result"
    }
   ],
   "source": [
    "df.reset_index(drop=True)"
   ]
  },
  {
   "cell_type": "code",
   "execution_count": 29,
   "id": "0cdd701d-1dbf-4933-884e-2b7b9f404d64",
   "metadata": {},
   "outputs": [],
   "source": [
    "df.to_csv(cwd + \"/cleaned-BA-reviews.csv\")"
   ]
  },
  {
   "cell_type": "code",
   "execution_count": null,
   "id": "70f85506-2d17-44a7-bc65-7a4a6a8be8fb",
   "metadata": {},
   "outputs": [],
   "source": []
  }
 ],
 "metadata": {
  "kernelspec": {
   "display_name": "base",
   "language": "python",
   "name": "python3"
  },
  "language_info": {
   "codemirror_mode": {
    "name": "ipython",
    "version": 3
   },
   "file_extension": ".py",
   "mimetype": "text/x-python",
   "name": "python",
   "nbconvert_exporter": "python",
   "pygments_lexer": "ipython3",
   "version": "3.11.5"
  }
 },
 "nbformat": 4,
 "nbformat_minor": 5
}
