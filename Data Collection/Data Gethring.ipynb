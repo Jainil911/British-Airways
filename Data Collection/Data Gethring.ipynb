{
 "cells": [
  {
   "cell_type": "code",
   "execution_count": 1,
   "id": "62b8932f-e860-4d8b-8aba-0135ea114ba7",
   "metadata": {},
   "outputs": [],
   "source": [
    "import pandas as pd\n",
    "import numpy as np\n",
    "from bs4 import BeautifulSoup\n",
    "import requests "
   ]
  },
  {
   "cell_type": "code",
   "execution_count": null,
   "id": "9b4a1e31-3381-4d78-bd80-43ada3ece426",
   "metadata": {},
   "outputs": [],
   "source": [
    "#create an empty list to collect the given column\n",
    "reviews  = []\n",
    "stars = []\n",
    "date = []\n",
    "country = []"
   ]
  },
  {
   "cell_type": "code",
   "execution_count": null,
   "id": "fdfa7a42-8e27-481c-86bd-321f41271017",
   "metadata": {},
   "outputs": [
    {
     "name": "stdout",
     "output_type": "stream",
     "text": [
      "Error on page 33\n",
      "Error on page 35\n",
      "Error on page 35\n"
     ]
    }
   ],
   "source": [
    "for i in range(1,36):\n",
    "    page = requests.get(f\"https://www.airlinequality.com/airline-reviews/british-airways/page/{i}/?sortby=post_date%3ADesc&pagesize=100\")\n",
    "    \n",
    "    soup = BeautifulSoup(page.content, \"html\")\n",
    "    \n",
    "    for item in soup.find_all(\"div\", class_=\"text_content\"):\n",
    "        reviews.append(item.text)\n",
    "    \n",
    "    for item in soup.find_all(\"div\", class_ = \"rating-10\"):\n",
    "        try:\n",
    "            stars.append(item.span.text)\n",
    "        except:\n",
    "            print(f\"Error on page {i}\")\n",
    "            stars.append(\"None\")\n",
    "            \n",
    "    for item in soup.find_all(\"time\"):\n",
    "        date.append(item.text)\n",
    "        \n",
    "    for item in soup.find_all(\"h3\"):\n",
    "        country.append(item.span.next_sibling.text.strip(\" ()\"))"
   ]
  },
  {
   "cell_type": "code",
   "execution_count": 16,
   "id": "b4424320-9973-4043-8633-371027bf3d0f",
   "metadata": {},
   "outputs": [],
   "source": [
    "min_length = min(len(reviews), len(stars), len(date), len(country))\n",
    "\n",
    "reviews = reviews[:min_length]\n",
    "stars = stars[:min_length]\n",
    "date = date[:min_length]\n",
    "country = country[:min_length]\n"
   ]
  },
  {
   "cell_type": "code",
   "execution_count": 17,
   "id": "aa7d472e-1a8d-4514-b02d-25d33bcf35e3",
   "metadata": {},
   "outputs": [],
   "source": [
    "max_length = max(len(reviews), len(stars), len(date), len(country))\n",
    "\n",
    "reviews.extend([None] * (max_length - len(reviews)))\n",
    "stars.extend([None] * (max_length - len(stars)))\n",
    "date.extend([None] * (max_length - len(date)))\n",
    "country.extend([None] * (max_length - len(country)))"
   ]
  },
  {
   "cell_type": "code",
   "execution_count": 18,
   "id": "8dd6c735-16c4-4920-971a-1174734a8d01",
   "metadata": {},
   "outputs": [],
   "source": [
    "if len(reviews) != len(stars):\n",
    "    print(\"Length mismatch between reviews and stars\")\n",
    "if len(reviews) != len(date):\n",
    "    print(\"Length mismatch between reviews and date\")\n",
    "if len(reviews) != len(country):\n",
    "    print(\"Length mismatch between reviews and country\")"
   ]
  },
  {
   "cell_type": "code",
   "execution_count": 19,
   "id": "3820f1ec-e1e5-452d-946c-08ce66c16245",
   "metadata": {},
   "outputs": [],
   "source": [
    "df = pd.DataFrame({\"reviews\": reviews, \"stars\": stars, \"date\": date, \"country\": country})\n"
   ]
  },
  {
   "cell_type": "code",
   "execution_count": 21,
   "id": "d9c0aa4a-a327-45b8-b299-8116dada8b2e",
   "metadata": {},
   "outputs": [
    {
     "data": {
      "text/html": [
       "<div>\n",
       "<style scoped>\n",
       "    .dataframe tbody tr th:only-of-type {\n",
       "        vertical-align: middle;\n",
       "    }\n",
       "\n",
       "    .dataframe tbody tr th {\n",
       "        vertical-align: top;\n",
       "    }\n",
       "\n",
       "    .dataframe thead th {\n",
       "        text-align: right;\n",
       "    }\n",
       "</style>\n",
       "<table border=\"1\" class=\"dataframe\">\n",
       "  <thead>\n",
       "    <tr style=\"text-align: right;\">\n",
       "      <th></th>\n",
       "      <th>reviews</th>\n",
       "      <th>stars</th>\n",
       "      <th>date</th>\n",
       "      <th>country</th>\n",
       "    </tr>\n",
       "  </thead>\n",
       "  <tbody>\n",
       "    <tr>\n",
       "      <th>0</th>\n",
       "      <td>Not Verified | I booked two business class sea...</td>\n",
       "      <td>\\n\\t\\t\\t\\t\\t\\t\\t\\t\\t\\t\\t\\t5</td>\n",
       "      <td>27th August 2024</td>\n",
       "      <td>United States</td>\n",
       "    </tr>\n",
       "    <tr>\n",
       "      <th>1</th>\n",
       "      <td>Not Verified | Although all four flights were ...</td>\n",
       "      <td>1</td>\n",
       "      <td>26th August 2024</td>\n",
       "      <td>United Kingdom</td>\n",
       "    </tr>\n",
       "    <tr>\n",
       "      <th>2</th>\n",
       "      <td>✅ Trip Verified |   Flight changed just one da...</td>\n",
       "      <td>9</td>\n",
       "      <td>26th August 2024</td>\n",
       "      <td>United Kingdom</td>\n",
       "    </tr>\n",
       "    <tr>\n",
       "      <th>3</th>\n",
       "      <td>Not Verified | Delayed flight 1 hour. Arbitrar...</td>\n",
       "      <td>1</td>\n",
       "      <td>25th August 2024</td>\n",
       "      <td>United Kingdom</td>\n",
       "    </tr>\n",
       "    <tr>\n",
       "      <th>4</th>\n",
       "      <td>Not Verified | Flown with BA four times. As an...</td>\n",
       "      <td>2</td>\n",
       "      <td>25th August 2024</td>\n",
       "      <td>United Kingdom</td>\n",
       "    </tr>\n",
       "    <tr>\n",
       "      <th>5</th>\n",
       "      <td>✅ Trip Verified |   You may never see your ref...</td>\n",
       "      <td>10</td>\n",
       "      <td>22nd August 2024</td>\n",
       "      <td>United States</td>\n",
       "    </tr>\n",
       "    <tr>\n",
       "      <th>6</th>\n",
       "      <td>Not Verified | Cargo service: that's how I fel...</td>\n",
       "      <td>1</td>\n",
       "      <td>21st August 2024</td>\n",
       "      <td>United States</td>\n",
       "    </tr>\n",
       "    <tr>\n",
       "      <th>7</th>\n",
       "      <td>✅ Trip Verified | Inefficient and slow airport...</td>\n",
       "      <td>5</td>\n",
       "      <td>21st August 2024</td>\n",
       "      <td>United Kingdom</td>\n",
       "    </tr>\n",
       "    <tr>\n",
       "      <th>8</th>\n",
       "      <td>Not Verified |  The customer service is one of...</td>\n",
       "      <td>4</td>\n",
       "      <td>18th August 2024</td>\n",
       "      <td>United States</td>\n",
       "    </tr>\n",
       "    <tr>\n",
       "      <th>9</th>\n",
       "      <td>Not Verified | Before my flight, I was forced ...</td>\n",
       "      <td>2</td>\n",
       "      <td>15th August 2024</td>\n",
       "      <td>United Kingdom</td>\n",
       "    </tr>\n",
       "  </tbody>\n",
       "</table>\n",
       "</div>"
      ],
      "text/plain": [
       "                                             reviews  \\\n",
       "0  Not Verified | I booked two business class sea...   \n",
       "1  Not Verified | Although all four flights were ...   \n",
       "2  ✅ Trip Verified |   Flight changed just one da...   \n",
       "3  Not Verified | Delayed flight 1 hour. Arbitrar...   \n",
       "4  Not Verified | Flown with BA four times. As an...   \n",
       "5  ✅ Trip Verified |   You may never see your ref...   \n",
       "6  Not Verified | Cargo service: that's how I fel...   \n",
       "7  ✅ Trip Verified | Inefficient and slow airport...   \n",
       "8  Not Verified |  The customer service is one of...   \n",
       "9  Not Verified | Before my flight, I was forced ...   \n",
       "\n",
       "                         stars              date         country  \n",
       "0  \\n\\t\\t\\t\\t\\t\\t\\t\\t\\t\\t\\t\\t5  27th August 2024   United States  \n",
       "1                            1  26th August 2024  United Kingdom  \n",
       "2                            9  26th August 2024  United Kingdom  \n",
       "3                            1  25th August 2024  United Kingdom  \n",
       "4                            2  25th August 2024  United Kingdom  \n",
       "5                           10  22nd August 2024   United States  \n",
       "6                            1  21st August 2024   United States  \n",
       "7                            5  21st August 2024  United Kingdom  \n",
       "8                            4  18th August 2024   United States  \n",
       "9                            2  15th August 2024  United Kingdom  "
      ]
     },
     "execution_count": 21,
     "metadata": {},
     "output_type": "execute_result"
    }
   ],
   "source": [
    "df.head(10)"
   ]
  },
  {
   "cell_type": "code",
   "execution_count": 24,
   "id": "178ece17-5ed9-471b-90ec-a691f3af8841",
   "metadata": {},
   "outputs": [],
   "source": [
    "import os\n",
    "\n",
    "cwd = os.getcwd()\n",
    "df.to_csv(cwd+ \"/BA_reviews.csv\")"
   ]
  }
 ],
 "metadata": {
  "kernelspec": {
   "display_name": "Python 3 (ipykernel)",
   "language": "python",
   "name": "python3"
  },
  "language_info": {
   "codemirror_mode": {
    "name": "ipython",
    "version": 3
   },
   "file_extension": ".py",
   "mimetype": "text/x-python",
   "name": "python",
   "nbconvert_exporter": "python",
   "pygments_lexer": "ipython3",
   "version": "3.10.5"
  }
 },
 "nbformat": 4,
 "nbformat_minor": 5
}
